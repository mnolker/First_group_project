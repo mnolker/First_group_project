{
 "cells": [
  {
   "cell_type": "code",
   "execution_count": 1,
   "metadata": {
    "tags": []
   },
   "outputs": [
    {
     "ename": "ModuleNotFoundError",
     "evalue": "No module named 'api_key'",
     "output_type": "error",
     "traceback": [
      "\u001b[0;31m---------------------------------------------------------------------------\u001b[0m",
      "\u001b[0;31mModuleNotFoundError\u001b[0m                       Traceback (most recent call last)",
      "\u001b[0;32m<ipython-input-1-c7f69bfcec82>\u001b[0m in \u001b[0;36m<module>\u001b[0;34m\u001b[0m\n\u001b[1;32m     10\u001b[0m \u001b[0;32mfrom\u001b[0m \u001b[0mdatetime\u001b[0m \u001b[0;32mimport\u001b[0m \u001b[0mtimedelta\u001b[0m\u001b[0;34m\u001b[0m\u001b[0;34m\u001b[0m\u001b[0m\n\u001b[1;32m     11\u001b[0m \u001b[0;32mfrom\u001b[0m \u001b[0mcalendar\u001b[0m \u001b[0;32mimport\u001b[0m \u001b[0mmonthrange\u001b[0m\u001b[0;34m\u001b[0m\u001b[0;34m\u001b[0m\u001b[0m\n\u001b[0;32m---> 12\u001b[0;31m \u001b[0;32mfrom\u001b[0m \u001b[0mapi_key\u001b[0m \u001b[0;32mimport\u001b[0m \u001b[0mweather_key\u001b[0m\u001b[0;34m\u001b[0m\u001b[0;34m\u001b[0m\u001b[0m\n\u001b[0m\u001b[1;32m     13\u001b[0m \u001b[0;32mimport\u001b[0m \u001b[0mpprint\u001b[0m\u001b[0;34m\u001b[0m\u001b[0;34m\u001b[0m\u001b[0m\n\u001b[1;32m     14\u001b[0m \u001b[0;34m\u001b[0m\u001b[0m\n",
      "\u001b[0;31mModuleNotFoundError\u001b[0m: No module named 'api_key'"
     ]
    }
   ],
   "source": [
    "#import modules\n",
    "import json\n",
    "import requests\n",
    "import pandas as pd\n",
    "import numpy as np\n",
    "import matplotlib.pyplot as plt\n",
    "#from scipy.stats import lineregress\n",
    "from datetime import datetime\n",
    "from datetime import date\n",
    "from datetime import timedelta\n",
    "from calendar import monthrange\n",
    "from api_key import weather_key\n",
    "import pprint\n",
    "\n",
    "#call the API\n"
   ]
  },
  {
   "cell_type": "code",
   "execution_count": null,
   "metadata": {},
   "outputs": [],
   "source": [
    "base_URL = \"HTTPS://api.worldweatheronline.com/premium/v1/past-weather.ashx?\"\n",
    "start_date = '2016/01/01'\n",
    "start_date_obj = datetime.strptime(start_date,'%Y/%m/%d').date()\n",
    "final_date = \"2016/12/31\"\n",
    "final_date_obj= datetime.strptime(final_date,'%Y/%m/%d').date()\n",
    "number_of_months= (final_date_obj.year - start_date_obj.year)* 12 + (final_date_obj.month - start_date_obj.month)\n",
    "\n",
    "avg_temp_f=[]\n",
    "precip_inches=[]\n",
    "cloud_cover=[]\n",
    "wind_speed=[]\n",
    "avg_precip_inches=[]\n",
    "avg_cloud_cover=[]\n",
    "avg_wind_speed=[]\n",
    "date = []\n",
    "for number in range(number_of_months):\n",
    "    month_range= monthrange(start_date_obj.year,start_date_obj.day)[1]\n",
    "    end_date_obj= start_date_obj + timedelta(month_range -1)\n",
    "    end_date = str(end_date_obj)\n",
    "    q = \"Denver\"\n",
    "    format2 = \"json\"\n",
    "    params = {\"date\":start_date,\n",
    "                \"enddate\":end_date,\n",
    "                \"q\":q,\n",
    "                \"format\":format2,\n",
    "                \"key\": weather_key}\n",
    "    response = requests.get(base_URL,params=params).json()\n",
    "    weather=response[\"data\"][\"weather\"]\n",
    "    for day in weather:\n",
    "        timedelta(days=day)\n",
    "        date.append(start_date_obj+timedelta(day))\n",
    "        avg_temp_f.append(int(day[\"avgtempF\"]))\n",
    "\n",
    "        for time in day[\"hourly\"]:\n",
    "            precip_inches.append(float(time[\"precipInches\"]))\n",
    "            cloud_cover.append(int(time[\"cloudcover\"]))\n",
    "            wind_speed.append(int(time[\"windspeedMiles\"]))\n",
    "      \n",
    "        avg_precip_inches.append(round(sum(precip_inches)/len(precip_inches),1))\n",
    "        avg_cloud_cover.append(sum(cloud_cover)/len(cloud_cover))\n",
    "        avg_wind_speed.append(sum(wind_speed)/len(wind_speed))\n",
    "        precip_inches.clear()\n",
    "        cloud_cover.clear()\n",
    "        wind_speed.clear()\n",
    "    start_date_obj=start_date_obj + timedelta(month_range)\n",
    "    start_date = str(start_date_obj)\n",
    "\n",
    "weather_dec={\"Date\":date,\n",
    "    \"Avg temperature (F)\":avg_temp_f,\n",
    "\"Precip Inches\":avg_precip_inches,\n",
    "\"Cloud Cover\":avg_cloud_cover,\n",
    "\"Wind Speed(Miles)\":avg_wind_speed}\n",
    "weahter_df=pd.DataFrame(weather_dec)\n",
    "weahter_df\n"
   ]
  },
  {
   "cell_type": "code",
   "execution_count": null,
   "metadata": {},
   "outputs": [],
   "source": []
  }
 ],
 "metadata": {
  "kernelspec": {
   "display_name": "newpython",
   "language": "python",
   "name": "newpython"
  },
  "language_info": {
   "codemirror_mode": {
    "name": "ipython",
    "version": 3
   },
   "file_extension": ".py",
   "mimetype": "text/x-python",
   "name": "python",
   "nbconvert_exporter": "python",
   "pygments_lexer": "ipython3",
   "version": "3.8.3"
  }
 },
 "nbformat": 4,
 "nbformat_minor": 2
}
