{
 "cells": [
  {
   "cell_type": "code",
<<<<<<< HEAD
   "execution_count": 1,
   "metadata": {
    "tags": []
   },
   "outputs": [
    {
     "ename": "ModuleNotFoundError",
     "evalue": "No module named 'api_key'",
     "output_type": "error",
     "traceback": [
      "\u001b[0;31m---------------------------------------------------------------------------\u001b[0m",
      "\u001b[0;31mModuleNotFoundError\u001b[0m                       Traceback (most recent call last)",
      "\u001b[0;32m<ipython-input-1-c7f69bfcec82>\u001b[0m in \u001b[0;36m<module>\u001b[0;34m\u001b[0m\n\u001b[1;32m     10\u001b[0m \u001b[0;32mfrom\u001b[0m \u001b[0mdatetime\u001b[0m \u001b[0;32mimport\u001b[0m \u001b[0mtimedelta\u001b[0m\u001b[0;34m\u001b[0m\u001b[0;34m\u001b[0m\u001b[0m\n\u001b[1;32m     11\u001b[0m \u001b[0;32mfrom\u001b[0m \u001b[0mcalendar\u001b[0m \u001b[0;32mimport\u001b[0m \u001b[0mmonthrange\u001b[0m\u001b[0;34m\u001b[0m\u001b[0;34m\u001b[0m\u001b[0m\n\u001b[0;32m---> 12\u001b[0;31m \u001b[0;32mfrom\u001b[0m \u001b[0mapi_key\u001b[0m \u001b[0;32mimport\u001b[0m \u001b[0mweather_key\u001b[0m\u001b[0;34m\u001b[0m\u001b[0;34m\u001b[0m\u001b[0m\n\u001b[0m\u001b[1;32m     13\u001b[0m \u001b[0;32mimport\u001b[0m \u001b[0mpprint\u001b[0m\u001b[0;34m\u001b[0m\u001b[0;34m\u001b[0m\u001b[0m\n\u001b[1;32m     14\u001b[0m \u001b[0;34m\u001b[0m\u001b[0m\n",
      "\u001b[0;31mModuleNotFoundError\u001b[0m: No module named 'api_key'"
     ]
    }
   ],
=======
   "execution_count": 8,
   "metadata": {
    "tags": []
   },
   "outputs": [],
>>>>>>> dfbcde7a23a3ade3344800f75a4b72a8013d4890
   "source": [
    "#import modules\n",
    "import json\n",
    "import requests\n",
    "import pandas as pd\n",
<<<<<<< HEAD
    "import numpy as np\n",
    "import matplotlib.pyplot as plt\n",
    "#from scipy.stats import lineregress\n",
=======
>>>>>>> dfbcde7a23a3ade3344800f75a4b72a8013d4890
    "from datetime import datetime\n",
    "from datetime import date\n",
    "from datetime import timedelta\n",
    "from calendar import monthrange\n",
<<<<<<< HEAD
    "from api_key import weather_key\n",
    "import pprint\n",
    "\n",
    "#call the API\n"
=======
    "from api_key import weather_key"
   ]
  },
  {
   "cell_type": "markdown",
   "metadata": {},
   "source": [
    "# Denver Weather\n",
    "## API Pull \n",
    "> This code pulls from the https://www.worldweatheronline.com/developer/api/ API and pulls weather data for every day from 1/1/2016 to 8/31/2020"
>>>>>>> dfbcde7a23a3ade3344800f75a4b72a8013d4890
   ]
  },
  {
   "cell_type": "code",
<<<<<<< HEAD
   "execution_count": null,
   "metadata": {},
   "outputs": [],
   "source": [
    "base_URL = \"HTTPS://api.worldweatheronline.com/premium/v1/past-weather.ashx?\"\n",
    "start_date = '2016/01/01'\n",
    "start_date_obj = datetime.strptime(start_date,'%Y/%m/%d').date()\n",
    "final_date = \"2016/12/31\"\n",
    "final_date_obj= datetime.strptime(final_date,'%Y/%m/%d').date()\n",
    "number_of_months= (final_date_obj.year - start_date_obj.year)* 12 + (final_date_obj.month - start_date_obj.month)\n",
    "\n",
=======
   "execution_count": 23,
   "metadata": {},
   "outputs": [
    {
     "data": {
      "text/html": [
       "<div>\n",
       "<style scoped>\n",
       "    .dataframe tbody tr th:only-of-type {\n",
       "        vertical-align: middle;\n",
       "    }\n",
       "\n",
       "    .dataframe tbody tr th {\n",
       "        vertical-align: top;\n",
       "    }\n",
       "\n",
       "    .dataframe thead th {\n",
       "        text-align: right;\n",
       "    }\n",
       "</style>\n",
       "<table border=\"1\" class=\"dataframe\">\n",
       "  <thead>\n",
       "    <tr style=\"text-align: right;\">\n",
       "      <th></th>\n",
       "      <th>Date</th>\n",
       "      <th>Avg temperature (F)</th>\n",
       "      <th>Precip Inches</th>\n",
       "      <th>Cloud Cover</th>\n",
       "      <th>Wind Speed(Miles)</th>\n",
       "    </tr>\n",
       "  </thead>\n",
       "  <tbody>\n",
       "    <tr>\n",
       "      <th>0</th>\n",
       "      <td>2016-01-01</td>\n",
       "      <td>11</td>\n",
       "      <td>0.0</td>\n",
       "      <td>2.000</td>\n",
       "      <td>3.375</td>\n",
       "    </tr>\n",
       "    <tr>\n",
       "      <th>1</th>\n",
       "      <td>2016-01-02</td>\n",
       "      <td>20</td>\n",
       "      <td>0.0</td>\n",
       "      <td>10.875</td>\n",
       "      <td>4.500</td>\n",
       "    </tr>\n",
       "    <tr>\n",
       "      <th>2</th>\n",
       "      <td>2016-01-03</td>\n",
       "      <td>24</td>\n",
       "      <td>0.0</td>\n",
       "      <td>10.750</td>\n",
       "      <td>3.500</td>\n",
       "    </tr>\n",
       "    <tr>\n",
       "      <th>3</th>\n",
       "      <td>2016-01-04</td>\n",
       "      <td>22</td>\n",
       "      <td>0.0</td>\n",
       "      <td>56.250</td>\n",
       "      <td>5.750</td>\n",
       "    </tr>\n",
       "    <tr>\n",
       "      <th>4</th>\n",
       "      <td>2016-01-05</td>\n",
       "      <td>28</td>\n",
       "      <td>0.0</td>\n",
       "      <td>19.750</td>\n",
       "      <td>3.250</td>\n",
       "    </tr>\n",
       "    <tr>\n",
       "      <th>...</th>\n",
       "      <td>...</td>\n",
       "      <td>...</td>\n",
       "      <td>...</td>\n",
       "      <td>...</td>\n",
       "      <td>...</td>\n",
       "    </tr>\n",
       "    <tr>\n",
       "      <th>1700</th>\n",
       "      <td>2020-08-27</td>\n",
       "      <td>85</td>\n",
       "      <td>0.0</td>\n",
       "      <td>34.750</td>\n",
       "      <td>5.750</td>\n",
       "    </tr>\n",
       "    <tr>\n",
       "      <th>1701</th>\n",
       "      <td>2020-08-28</td>\n",
       "      <td>72</td>\n",
       "      <td>0.1</td>\n",
       "      <td>48.250</td>\n",
       "      <td>6.875</td>\n",
       "    </tr>\n",
       "    <tr>\n",
       "      <th>1702</th>\n",
       "      <td>2020-08-29</td>\n",
       "      <td>75</td>\n",
       "      <td>0.0</td>\n",
       "      <td>26.875</td>\n",
       "      <td>4.875</td>\n",
       "    </tr>\n",
       "    <tr>\n",
       "      <th>1703</th>\n",
       "      <td>2020-08-30</td>\n",
       "      <td>81</td>\n",
       "      <td>0.0</td>\n",
       "      <td>18.000</td>\n",
       "      <td>7.125</td>\n",
       "    </tr>\n",
       "    <tr>\n",
       "      <th>1704</th>\n",
       "      <td>2020-08-31</td>\n",
       "      <td>70</td>\n",
       "      <td>0.0</td>\n",
       "      <td>46.250</td>\n",
       "      <td>8.750</td>\n",
       "    </tr>\n",
       "  </tbody>\n",
       "</table>\n",
       "<p>1705 rows × 5 columns</p>\n",
       "</div>"
      ],
      "text/plain": [
       "            Date  Avg temperature (F)  Precip Inches  Cloud Cover  \\\n",
       "0     2016-01-01                   11            0.0        2.000   \n",
       "1     2016-01-02                   20            0.0       10.875   \n",
       "2     2016-01-03                   24            0.0       10.750   \n",
       "3     2016-01-04                   22            0.0       56.250   \n",
       "4     2016-01-05                   28            0.0       19.750   \n",
       "...          ...                  ...            ...          ...   \n",
       "1700  2020-08-27                   85            0.0       34.750   \n",
       "1701  2020-08-28                   72            0.1       48.250   \n",
       "1702  2020-08-29                   75            0.0       26.875   \n",
       "1703  2020-08-30                   81            0.0       18.000   \n",
       "1704  2020-08-31                   70            0.0       46.250   \n",
       "\n",
       "      Wind Speed(Miles)  \n",
       "0                 3.375  \n",
       "1                 4.500  \n",
       "2                 3.500  \n",
       "3                 5.750  \n",
       "4                 3.250  \n",
       "...                 ...  \n",
       "1700              5.750  \n",
       "1701              6.875  \n",
       "1702              4.875  \n",
       "1703              7.125  \n",
       "1704              8.750  \n",
       "\n",
       "[1705 rows x 5 columns]"
      ]
     },
     "execution_count": 23,
     "metadata": {},
     "output_type": "execute_result"
    }
   ],
   "source": [
    "#World Weather Base API URL\n",
    "base_URL = \"HTTPS://api.worldweatheronline.com/premium/v1/past-weather.ashx?\"\n",
    "\n",
    "#Start date is start of denver weather data\n",
    "start_date = '2016/01/01'\n",
    "#turn start_date string to datetime format\n",
    "start_date_obj = datetime.strptime(start_date,'%Y/%m/%d').date()\n",
    "\n",
    "#Final date is end of denver weather data\n",
    "final_date = \"2020/09/09\"\n",
    "#turn final_date string to datetime format\n",
    "final_date_obj= datetime.strptime(final_date,'%Y/%m/%d').date()\n",
    "#calculate the number of months between start date and final date to use in for loop range\n",
    "number_of_months= (final_date_obj.year - start_date_obj.year)* 12 + (final_date_obj.month - start_date_obj.month)\n",
    "\n",
    "#set up empty lists to populate\n",
>>>>>>> dfbcde7a23a3ade3344800f75a4b72a8013d4890
    "avg_temp_f=[]\n",
    "precip_inches=[]\n",
    "cloud_cover=[]\n",
    "wind_speed=[]\n",
    "avg_precip_inches=[]\n",
    "avg_cloud_cover=[]\n",
    "avg_wind_speed=[]\n",
<<<<<<< HEAD
    "date = []\n",
    "for number in range(number_of_months):\n",
    "    month_range= monthrange(start_date_obj.year,start_date_obj.day)[1]\n",
    "    end_date_obj= start_date_obj + timedelta(month_range -1)\n",
    "    end_date = str(end_date_obj)\n",
=======
    "date_column = []\n",
    "\n",
    "#API only allows you to call 1 month data at a time. Loop through each month and call API 1 month at time\n",
    "for number in range(number_of_months):\n",
    "    #get the number of days in each month\n",
    "    month_range= monthrange(start_date_obj.year,start_date_obj.month)[1]\n",
    "    #get end_date for params api call\n",
    "    end_date_obj= start_date_obj + timedelta(month_range -1)\n",
    "    end_date = str(end_date_obj)\n",
    "    \n",
    "    #Set up parameters for API call\n",
>>>>>>> dfbcde7a23a3ade3344800f75a4b72a8013d4890
    "    q = \"Denver\"\n",
    "    format2 = \"json\"\n",
    "    params = {\"date\":start_date,\n",
    "                \"enddate\":end_date,\n",
    "                \"q\":q,\n",
    "                \"format\":format2,\n",
    "                \"key\": weather_key}\n",
<<<<<<< HEAD
    "    response = requests.get(base_URL,params=params).json()\n",
    "    weather=response[\"data\"][\"weather\"]\n",
    "    for day in weather:\n",
    "        timedelta(days=day)\n",
    "        date.append(start_date_obj+timedelta(day))\n",
    "        avg_temp_f.append(int(day[\"avgtempF\"]))\n",
    "\n",
    "        for time in day[\"hourly\"]:\n",
    "            precip_inches.append(float(time[\"precipInches\"]))\n",
    "            cloud_cover.append(int(time[\"cloudcover\"]))\n",
    "            wind_speed.append(int(time[\"windspeedMiles\"]))\n",
    "      \n",
    "        avg_precip_inches.append(round(sum(precip_inches)/len(precip_inches),1))\n",
    "        avg_cloud_cover.append(sum(cloud_cover)/len(cloud_cover))\n",
    "        avg_wind_speed.append(sum(wind_speed)/len(wind_speed))\n",
    "        precip_inches.clear()\n",
    "        cloud_cover.clear()\n",
    "        wind_speed.clear()\n",
    "    start_date_obj=start_date_obj + timedelta(month_range)\n",
    "    start_date = str(start_date_obj)\n",
    "\n",
    "weather_dec={\"Date\":date,\n",
=======
    "    #call API\n",
    "    response = requests.get(base_URL,params=params).json()\n",
    "    #set up weather variable to go to the API under data and weather\n",
    "    weather=response[\"data\"][\"weather\"]\n",
    "    \n",
    "    #loop through each day in the weather API. NOTE the api gives data for each day in start date to end date range\n",
    "    for day in weather:\n",
    "        #Populate date_column list with dates\n",
    "        date_column.append(day[\"date\"])\n",
    "        #Populate avg_temp_f list with avgerage temperature in F from API listed for every day\n",
    "        avg_temp_f.append(int(day[\"avgtempF\"]))\n",
    "        \n",
    "        #data is API that is hourly for every day. Need to loop through each hourly data inside of a day\n",
    "        for time in day[\"hourly\"]:\n",
    "            #append to lists hourly data\n",
    "            precip_inches.append(float(time[\"precipInches\"]))\n",
    "            cloud_cover.append(int(time[\"cloudcover\"]))\n",
    "            wind_speed.append(int(time[\"windspeedMiles\"]))\n",
    "        \n",
    "        #take the average of the hourly data to get one number per day and then append to lists\n",
    "        avg_precip_inches.append(round(sum(precip_inches)/len(precip_inches),1))\n",
    "        avg_cloud_cover.append(sum(cloud_cover)/len(cloud_cover))\n",
    "        avg_wind_speed.append(sum(wind_speed)/len(wind_speed))\n",
    "        \n",
    "        #clear hourly lists to be able to append to a blank list and average for the next day\n",
    "        precip_inches.clear()\n",
    "        cloud_cover.clear()\n",
    "        wind_speed.clear()\n",
    "    \n",
    "    #get the new start_date which is 1 month from the current start_date\n",
    "    start_date_obj=start_date_obj + timedelta(month_range)\n",
    "    start_date = str(start_date_obj)\n",
    "\n",
    "#Create dictionary with lists    \n",
    "weather_dec={\"Date\":date_column,\n",
>>>>>>> dfbcde7a23a3ade3344800f75a4b72a8013d4890
    "    \"Avg temperature (F)\":avg_temp_f,\n",
    "\"Precip Inches\":avg_precip_inches,\n",
    "\"Cloud Cover\":avg_cloud_cover,\n",
    "\"Wind Speed(Miles)\":avg_wind_speed}\n",
<<<<<<< HEAD
    "weahter_df=pd.DataFrame(weather_dec)\n",
    "weahter_df\n"
=======
    "\n",
    "#turn dictionary to dataframe\n",
    "weather_df=pd.DataFrame(weather_dec)\n",
    "weather_df\n"
   ]
  },
  {
   "cell_type": "code",
   "execution_count": 25,
   "metadata": {},
   "outputs": [],
   "source": [
    "#export weather_df dataframe to a csv file titled \"clean_weather_1-1-2016_to_8-31-2020.csv\"\n",
    "weather_df.to_csv(\"clean_weather_1-1-2016_to_8-31-2020.csv\")"
>>>>>>> dfbcde7a23a3ade3344800f75a4b72a8013d4890
   ]
  },
  {
   "cell_type": "code",
   "execution_count": null,
   "metadata": {},
   "outputs": [],
   "source": []
  }
 ],
 "metadata": {
  "kernelspec": {
<<<<<<< HEAD
   "display_name": "newpython",
   "language": "python",
   "name": "newpython"
=======
   "display_name": "pythonEnvir",
   "language": "python",
   "name": "pythonenvir"
>>>>>>> dfbcde7a23a3ade3344800f75a4b72a8013d4890
  },
  "language_info": {
   "codemirror_mode": {
    "name": "ipython",
    "version": 3
   },
   "file_extension": ".py",
   "mimetype": "text/x-python",
   "name": "python",
   "nbconvert_exporter": "python",
   "pygments_lexer": "ipython3",
<<<<<<< HEAD
   "version": "3.8.3"
=======
   "version": "3.6.10"
>>>>>>> dfbcde7a23a3ade3344800f75a4b72a8013d4890
  }
 },
 "nbformat": 4,
 "nbformat_minor": 2
}
