{
 "metadata": {
  "language_info": {
   "codemirror_mode": {
    "name": "ipython",
    "version": 3
   },
   "file_extension": ".py",
   "mimetype": "text/x-python",
   "name": "python",
   "nbconvert_exporter": "python",
   "pygments_lexer": "ipython3",
   "version": "3.8.3-final"
  },
  "orig_nbformat": 2,
  "kernelspec": {
   "name": "python3",
   "display_name": "Python 3"
  }
 },
 "nbformat": 4,
 "nbformat_minor": 2,
 "cells": [
  {
   "cell_type": "code",
   "execution_count": 6,
   "metadata": {
    "tags": []
   },
   "outputs": [
    {
     "output_type": "stream",
     "name": "stdout",
     "text": [
      "15\n"
     ]
    }
   ],
   "source": [
    "#import modules\n",
    "import json\n",
    "import requests\n",
    "import pandas as pd\n",
    "import numpy as np\n",
    "import matplotlib.pyplot as plt\n",
    "#from scipy.stats import lineregress\n",
    "from datetime import datetime\n",
    "from api_key import weather_key\n",
    "import pprint\n",
    "\n",
    "#call the API\n",
    "base_URL = \"HTTPS://api.worldweatheronline.com/premium/v1/past-weather.ashx?\"\n",
    "start_date = \"2019-01-01\"\n",
    "end_date = \"2019-01-31\"\n",
    "q = \"Denver\"\n",
    "format2 = \"json\"\n",
    "params = {\"date\":start_date,\n",
    "        \"enddate\":end_date,\n",
    "        \"q\":q,\n",
    "        \"format\":format2,\n",
    "        \"key\": weather_key}\n",
    "response = requests.get(base_URL,params=params).json()\n",
    "avgtemp = response[\"data\"][\"weather\"][0][\"avgtempF\"]\n",
    "print(avgtemp)\n"
   ]
  }
 ]
}