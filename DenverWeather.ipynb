{
 "metadata": {
  "language_info": {
   "codemirror_mode": {
    "name": "ipython",
    "version": 3
   },
   "file_extension": ".py",
   "mimetype": "text/x-python",
   "name": "python",
   "nbconvert_exporter": "python",
   "pygments_lexer": "ipython3",
   "version": "3.7.6-final"
  },
  "orig_nbformat": 2,
  "kernelspec": {
   "name": "python3",
   "display_name": "Python 3",
   "language": "python"
  }
 },
 "nbformat": 4,
 "nbformat_minor": 2,
 "cells": [
  {
   "cell_type": "code",
   "execution_count": 8,
   "metadata": {
    "tags": []
   },
   "outputs": [
    {
     "output_type": "stream",
     "name": "stdout",
     "text": [
      "15\n0.0\n29\n31\n15\n29\n41\n46\n42\n45\n44\n40\n39\n44\n36\n33\n30\n32\n34\n37\n40\n35\n34\n41\n38\n28\n33\n25\n34\n34\n42\n24\n24\n27\n37\n"
     ]
    }
   ],
   "source": [
    "#import modules\n",
    "import json\n",
    "import requests\n",
    "import pandas as pd\n",
    "import numpy as np\n",
    "import matplotlib.pyplot as plt\n",
    "#from scipy.stats import lineregress\n",
    "from datetime import datetime\n",
    "from api_key import weather_key\n",
    "import pprint\n",
    "\n",
    "#call the API\n",
    "base_URL = \"HTTPS://api.worldweatheronline.com/premium/v1/past-weather.ashx?\"\n",
    "start_date = \"2019-01-01\"\n",
    "end_date = \"2019-01-31\"\n",
    "q = \"Denver\"\n",
    "format2 = \"json\"\n",
    "params = {\"date\":start_date,\n",
    "        \"enddate\":end_date,\n",
    "        \"q\":q,\n",
    "        \"format\":format2,\n",
    "        \"key\": weather_key}\n",
    "response = requests.get(base_URL,params=params).json()\n",
    "avgtemp = response[\"data\"][\"weather\"][0][\"avgtempF\"]\n",
    "time_0 = response[\"data\"][\"weather\"][0][\"hourly\"][0][\"precipInches\"]\n",
    "\n",
    "print(avgtemp)\n",
    "print(time_0)\n",
    "avg_temp2=response[\"data\"][\"weather\"][1][\"avgtempF\"]\n",
    "print(avg_temp2)\n",
    "weather=response[\"data\"][\"weather\"]\n",
    "print(len(weather))\n",
    "\n"
   ]
  },
  {
   "cell_type": "code",
   "execution_count": 26,
   "metadata": {},
   "outputs": [
    {
     "output_type": "execute_result",
     "data": {
      "text/plain": [
       "   Avg temperature (F)  Precip Inches  Cloud Cover\n",
       "0                   15            0.0       52.250\n",
       "1                   29            0.0        2.875\n",
       "2                   41            0.0        5.125\n",
       "3                   46            0.0       10.875\n",
       "4                   42            0.0       17.500"
      ],
      "text/html": "<div>\n<style scoped>\n    .dataframe tbody tr th:only-of-type {\n        vertical-align: middle;\n    }\n\n    .dataframe tbody tr th {\n        vertical-align: top;\n    }\n\n    .dataframe thead th {\n        text-align: right;\n    }\n</style>\n<table border=\"1\" class=\"dataframe\">\n  <thead>\n    <tr style=\"text-align: right;\">\n      <th></th>\n      <th>Avg temperature (F)</th>\n      <th>Precip Inches</th>\n      <th>Cloud Cover</th>\n    </tr>\n  </thead>\n  <tbody>\n    <tr>\n      <th>0</th>\n      <td>15</td>\n      <td>0.0</td>\n      <td>52.250</td>\n    </tr>\n    <tr>\n      <th>1</th>\n      <td>29</td>\n      <td>0.0</td>\n      <td>2.875</td>\n    </tr>\n    <tr>\n      <th>2</th>\n      <td>41</td>\n      <td>0.0</td>\n      <td>5.125</td>\n    </tr>\n    <tr>\n      <th>3</th>\n      <td>46</td>\n      <td>0.0</td>\n      <td>10.875</td>\n    </tr>\n    <tr>\n      <th>4</th>\n      <td>42</td>\n      <td>0.0</td>\n      <td>17.500</td>\n    </tr>\n  </tbody>\n</table>\n</div>"
     },
     "metadata": {},
     "execution_count": 26
    }
   ],
   "source": [
    "avg_temp_f=[]\n",
    "precip_inches=[]\n",
    "cloud_cover=[]\n",
    "avg_precip_inches=[]\n",
    "avg_cloud_cover=[]\n",
    "\n",
    "for day in weather:\n",
    "    avg_temp_f.append(int(day[\"avgtempF\"]))\n",
    "    for time in day[\"hourly\"]:\n",
    "        precip_inches.append(float(time[\"precipInches\"]))\n",
    "        cloud_cover.append(int(time[\"cloudcover\"]))\n",
    "    avg_precip_inches.append(round(sum(precip_inches)/len(precip_inches),1))\n",
    "    avg_cloud_cover.append(sum(cloud_cover)/len(cloud_cover))\n",
    "    precip_inches.clear()\n",
    "    cloud_cover.clear()\n",
    "\n",
    "weather_dec={\"Avg temperature (F)\":avg_temp_f,\n",
    "\"Precip Inches\":avg_precip_inches,\n",
    "\"Cloud Cover\":avg_cloud_cover}\n",
    "weahter_df=pd.DataFrame(weather_dec)\n",
    "weahter_df.head()"
   ]
  },
  {
   "cell_type": "code",
   "execution_count": 27,
   "metadata": {},
   "outputs": [
    {
     "output_type": "error",
     "ename": "NameError",
     "evalue": "name 'weather_df' is not defined",
     "traceback": [
      "\u001b[1;31m---------------------------------------------------------------------------\u001b[0m",
      "\u001b[1;31mNameError\u001b[0m                                 Traceback (most recent call last)",
      "\u001b[1;32m<ipython-input-27-bf6644ec2d87>\u001b[0m in \u001b[0;36m<module>\u001b[1;34m\u001b[0m\n\u001b[1;32m----> 1\u001b[1;33m \u001b[0mprint\u001b[0m\u001b[1;33m(\u001b[0m\u001b[0mtype\u001b[0m\u001b[1;33m(\u001b[0m\u001b[0mweather_df\u001b[0m\u001b[1;33m[\u001b[0m\u001b[1;34m\"Avg temperature (F)\"\u001b[0m\u001b[1;33m]\u001b[0m\u001b[1;33m)\u001b[0m\u001b[1;33m)\u001b[0m\u001b[1;33m\u001b[0m\u001b[1;33m\u001b[0m\u001b[0m\n\u001b[0m",
      "\u001b[1;31mNameError\u001b[0m: name 'weather_df' is not defined"
     ]
    }
   ],
   "source": []
  },
  {
   "cell_type": "code",
   "execution_count": null,
   "metadata": {},
   "outputs": [],
   "source": []
  }
 ]
}