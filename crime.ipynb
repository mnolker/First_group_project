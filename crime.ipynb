{
 "cells": [
  {
   "cell_type": "code",
   "execution_count": 12,
   "metadata": {},
   "outputs": [],
   "source": [
    "# Dependencies and Setup \n",
    "import matplotlib.pyplot as plt\n",
    "import pandas as pd\n",
    "import numpy as np\n",
    "import requests\n",
    "import os\n",
    "from datetime import datetime\n",
    "pd.options.mode.chained_assignment=None"
   ]
  },
  {
   "cell_type": "code",
   "execution_count": 13,
   "metadata": {},
   "outputs": [
    {
     "name": "stdout",
     "output_type": "stream",
     "text": [
      "Index(['INCIDENT_ID', 'OFFENSE_TYPE_ID', 'OFFENSE_CATEGORY_ID',\n",
      "       'FIRST_OCCURRENCE_DATE', 'NEIGHBORHOOD_ID', 'IS_CRIME'],\n",
      "      dtype='object')\n",
      "534103\n",
      "401178\n"
     ]
    },
    {
     "data": {
      "text/html": [
       "<div>\n",
       "<style scoped>\n",
       "    .dataframe tbody tr th:only-of-type {\n",
       "        vertical-align: middle;\n",
       "    }\n",
       "\n",
       "    .dataframe tbody tr th {\n",
       "        vertical-align: top;\n",
       "    }\n",
       "\n",
       "    .dataframe thead th {\n",
       "        text-align: right;\n",
       "    }\n",
       "</style>\n",
       "<table border=\"1\" class=\"dataframe\">\n",
       "  <thead>\n",
       "    <tr style=\"text-align: right;\">\n",
       "      <th></th>\n",
       "      <th>INCIDENT_ID</th>\n",
       "      <th>OFFENSE_TYPE_ID</th>\n",
       "      <th>OFFENSE_CATEGORY_ID</th>\n",
       "      <th>FIRST_OCCURRENCE_DATE</th>\n",
       "      <th>NEIGHBORHOOD_ID</th>\n",
       "      <th>IS_CRIME</th>\n",
       "    </tr>\n",
       "  </thead>\n",
       "  <tbody>\n",
       "    <tr>\n",
       "      <th>0</th>\n",
       "      <td>2018869789</td>\n",
       "      <td>theft-other</td>\n",
       "      <td>larceny</td>\n",
       "      <td>12/27/2018 3:58:00 PM</td>\n",
       "      <td>stapleton</td>\n",
       "      <td>1</td>\n",
       "    </tr>\n",
       "    <tr>\n",
       "      <th>2</th>\n",
       "      <td>20176005213</td>\n",
       "      <td>theft-bicycle</td>\n",
       "      <td>larceny</td>\n",
       "      <td>6/8/2017 1:15:00 PM</td>\n",
       "      <td>union-station</td>\n",
       "      <td>1</td>\n",
       "    </tr>\n",
       "    <tr>\n",
       "      <th>3</th>\n",
       "      <td>20196012240</td>\n",
       "      <td>theft-from-bldg</td>\n",
       "      <td>larceny</td>\n",
       "      <td>12/7/2019 1:07:00 PM</td>\n",
       "      <td>west-colfax</td>\n",
       "      <td>1</td>\n",
       "    </tr>\n",
       "    <tr>\n",
       "      <th>4</th>\n",
       "      <td>2018861883</td>\n",
       "      <td>violation-of-restraining-order</td>\n",
       "      <td>all-other-crimes</td>\n",
       "      <td>12/22/2018 8:15:00 PM</td>\n",
       "      <td>montbello</td>\n",
       "      <td>1</td>\n",
       "    </tr>\n",
       "    <tr>\n",
       "      <th>5</th>\n",
       "      <td>2018264446</td>\n",
       "      <td>threats-to-injure</td>\n",
       "      <td>public-disorder</td>\n",
       "      <td>3/29/2018 10:00:00 AM</td>\n",
       "      <td>union-station</td>\n",
       "      <td>1</td>\n",
       "    </tr>\n",
       "  </tbody>\n",
       "</table>\n",
       "</div>"
      ],
      "text/plain": [
       "   INCIDENT_ID                 OFFENSE_TYPE_ID OFFENSE_CATEGORY_ID  \\\n",
       "0   2018869789                     theft-other             larceny   \n",
       "2  20176005213                   theft-bicycle             larceny   \n",
       "3  20196012240                 theft-from-bldg             larceny   \n",
       "4   2018861883  violation-of-restraining-order    all-other-crimes   \n",
       "5   2018264446               threats-to-injure     public-disorder   \n",
       "\n",
       "   FIRST_OCCURRENCE_DATE NEIGHBORHOOD_ID  IS_CRIME  \n",
       "0  12/27/2018 3:58:00 PM       stapleton         1  \n",
       "2    6/8/2017 1:15:00 PM   union-station         1  \n",
       "3   12/7/2019 1:07:00 PM     west-colfax         1  \n",
       "4  12/22/2018 8:15:00 PM       montbello         1  \n",
       "5  3/29/2018 10:00:00 AM   union-station         1  "
      ]
     },
     "execution_count": 13,
     "metadata": {},
     "output_type": "execute_result"
    }
   ],
   "source": [
    "crime_df = pd.read_csv(\"crime.csv\", usecols = ['INCIDENT_ID','OFFENSE_TYPE_ID', 'OFFENSE_CATEGORY_ID','FIRST_OCCURRENCE_DATE','NEIGHBORHOOD_ID', 'IS_CRIME'])\n",
    "print(crime_df.columns)\n",
    "crime_df.head()\n",
    "is_crime_df = crime_df.loc[crime_df['IS_CRIME']==1]\n",
    "print(len(crime_df))\n",
    "print(len(is_crime_df))\n",
    "is_crime_df.head()\n"
   ]
  },
  {
   "cell_type": "code",
   "execution_count": 14,
   "metadata": {},
   "outputs": [
    {
     "data": {
      "text/html": [
       "<div>\n",
       "<style scoped>\n",
       "    .dataframe tbody tr th:only-of-type {\n",
       "        vertical-align: middle;\n",
       "    }\n",
       "\n",
       "    .dataframe tbody tr th {\n",
       "        vertical-align: top;\n",
       "    }\n",
       "\n",
       "    .dataframe thead th {\n",
       "        text-align: right;\n",
       "    }\n",
       "</style>\n",
       "<table border=\"1\" class=\"dataframe\">\n",
       "  <thead>\n",
       "    <tr style=\"text-align: right;\">\n",
       "      <th></th>\n",
       "      <th>INCIDENT_ID</th>\n",
       "      <th>OFFENSE_TYPE_ID</th>\n",
       "      <th>OFFENSE_CATEGORY_ID</th>\n",
       "      <th>FIRST_OCCURRENCE_DATE</th>\n",
       "      <th>NEIGHBORHOOD_ID</th>\n",
       "      <th>IS_CRIME</th>\n",
       "      <th>Occurrence_date</th>\n",
       "      <th>Occurrence_time</th>\n",
       "    </tr>\n",
       "  </thead>\n",
       "  <tbody>\n",
       "    <tr>\n",
       "      <th>0</th>\n",
       "      <td>2018869789</td>\n",
       "      <td>theft-other</td>\n",
       "      <td>larceny</td>\n",
       "      <td>12/27/2018 3:58:00 PM</td>\n",
       "      <td>stapleton</td>\n",
       "      <td>1</td>\n",
       "      <td>12/27/2018</td>\n",
       "      <td>3:58:00 PM</td>\n",
       "    </tr>\n",
       "    <tr>\n",
       "      <th>2</th>\n",
       "      <td>20176005213</td>\n",
       "      <td>theft-bicycle</td>\n",
       "      <td>larceny</td>\n",
       "      <td>6/8/2017 1:15:00 PM</td>\n",
       "      <td>union-station</td>\n",
       "      <td>1</td>\n",
       "      <td>6/8/2017</td>\n",
       "      <td>1:15:00 PM</td>\n",
       "    </tr>\n",
       "    <tr>\n",
       "      <th>3</th>\n",
       "      <td>20196012240</td>\n",
       "      <td>theft-from-bldg</td>\n",
       "      <td>larceny</td>\n",
       "      <td>12/7/2019 1:07:00 PM</td>\n",
       "      <td>west-colfax</td>\n",
       "      <td>1</td>\n",
       "      <td>12/7/2019</td>\n",
       "      <td>1:07:00 PM</td>\n",
       "    </tr>\n",
       "    <tr>\n",
       "      <th>4</th>\n",
       "      <td>2018861883</td>\n",
       "      <td>violation-of-restraining-order</td>\n",
       "      <td>all-other-crimes</td>\n",
       "      <td>12/22/2018 8:15:00 PM</td>\n",
       "      <td>montbello</td>\n",
       "      <td>1</td>\n",
       "      <td>12/22/2018</td>\n",
       "      <td>8:15:00 PM</td>\n",
       "    </tr>\n",
       "    <tr>\n",
       "      <th>5</th>\n",
       "      <td>2018264446</td>\n",
       "      <td>threats-to-injure</td>\n",
       "      <td>public-disorder</td>\n",
       "      <td>3/29/2018 10:00:00 AM</td>\n",
       "      <td>union-station</td>\n",
       "      <td>1</td>\n",
       "      <td>3/29/2018</td>\n",
       "      <td>10:00:00 AM</td>\n",
       "    </tr>\n",
       "  </tbody>\n",
       "</table>\n",
       "</div>"
      ],
      "text/plain": [
       "   INCIDENT_ID                 OFFENSE_TYPE_ID OFFENSE_CATEGORY_ID  \\\n",
       "0   2018869789                     theft-other             larceny   \n",
       "2  20176005213                   theft-bicycle             larceny   \n",
       "3  20196012240                 theft-from-bldg             larceny   \n",
       "4   2018861883  violation-of-restraining-order    all-other-crimes   \n",
       "5   2018264446               threats-to-injure     public-disorder   \n",
       "\n",
       "   FIRST_OCCURRENCE_DATE NEIGHBORHOOD_ID  IS_CRIME Occurrence_date  \\\n",
       "0  12/27/2018 3:58:00 PM       stapleton         1      12/27/2018   \n",
       "2    6/8/2017 1:15:00 PM   union-station         1        6/8/2017   \n",
       "3   12/7/2019 1:07:00 PM     west-colfax         1       12/7/2019   \n",
       "4  12/22/2018 8:15:00 PM       montbello         1      12/22/2018   \n",
       "5  3/29/2018 10:00:00 AM   union-station         1       3/29/2018   \n",
       "\n",
       "  Occurrence_time  \n",
       "0      3:58:00 PM  \n",
       "2      1:15:00 PM  \n",
       "3      1:07:00 PM  \n",
       "4      8:15:00 PM  \n",
       "5     10:00:00 AM  "
      ]
     },
     "execution_count": 14,
     "metadata": {},
     "output_type": "execute_result"
    }
   ],
   "source": [
    "#split the date and time\n",
    "# type(is_crime_df.iloc[0].FIRST_OCCURRENCE_DATE)\n",
    "\n",
    "is_crime_df['Occurrence_date'] = [d.split(\" \",1)[0] for d in is_crime_df['FIRST_OCCURRENCE_DATE']]\n",
    "is_crime_df['Occurrence_time'] = [d.split(\" \",1)[1] for d in is_crime_df['FIRST_OCCURRENCE_DATE']]\n",
    "is_crime_df.head()"
   ]
  },
  {
   "cell_type": "code",
   "execution_count": 15,
   "metadata": {},
   "outputs": [
    {
     "data": {
      "text/html": [
       "<div>\n",
       "<style scoped>\n",
       "    .dataframe tbody tr th:only-of-type {\n",
       "        vertical-align: middle;\n",
       "    }\n",
       "\n",
       "    .dataframe tbody tr th {\n",
       "        vertical-align: top;\n",
       "    }\n",
       "\n",
       "    .dataframe thead th {\n",
       "        text-align: right;\n",
       "    }\n",
       "</style>\n",
       "<table border=\"1\" class=\"dataframe\">\n",
       "  <thead>\n",
       "    <tr style=\"text-align: right;\">\n",
       "      <th></th>\n",
       "      <th>INCIDENT_ID</th>\n",
       "      <th>OFFENSE_TYPE_ID</th>\n",
       "      <th>OFFENSE_CATEGORY_ID</th>\n",
       "      <th>FIRST_OCCURRENCE_DATE</th>\n",
       "      <th>NEIGHBORHOOD_ID</th>\n",
       "      <th>IS_CRIME</th>\n",
       "      <th>Occurrence_date</th>\n",
       "      <th>Occurrence_time</th>\n",
       "      <th>tempF</th>\n",
       "      <th>cloudcover</th>\n",
       "      <th>windspeedMiles</th>\n",
       "      <th>precipInches</th>\n",
       "      <th>weatherDesc</th>\n",
       "    </tr>\n",
       "  </thead>\n",
       "  <tbody>\n",
       "    <tr>\n",
       "      <th>0</th>\n",
       "      <td>2018869789</td>\n",
       "      <td>theft-other</td>\n",
       "      <td>larceny</td>\n",
       "      <td>12/27/2018 3:58:00 PM</td>\n",
       "      <td>stapleton</td>\n",
       "      <td>1</td>\n",
       "      <td>12/27/2018</td>\n",
       "      <td>3:58:00 PM</td>\n",
       "      <td></td>\n",
       "      <td></td>\n",
       "      <td></td>\n",
       "      <td></td>\n",
       "      <td></td>\n",
       "    </tr>\n",
       "    <tr>\n",
       "      <th>2</th>\n",
       "      <td>20176005213</td>\n",
       "      <td>theft-bicycle</td>\n",
       "      <td>larceny</td>\n",
       "      <td>6/8/2017 1:15:00 PM</td>\n",
       "      <td>union-station</td>\n",
       "      <td>1</td>\n",
       "      <td>6/8/2017</td>\n",
       "      <td>1:15:00 PM</td>\n",
       "      <td></td>\n",
       "      <td></td>\n",
       "      <td></td>\n",
       "      <td></td>\n",
       "      <td></td>\n",
       "    </tr>\n",
       "    <tr>\n",
       "      <th>3</th>\n",
       "      <td>20196012240</td>\n",
       "      <td>theft-from-bldg</td>\n",
       "      <td>larceny</td>\n",
       "      <td>12/7/2019 1:07:00 PM</td>\n",
       "      <td>west-colfax</td>\n",
       "      <td>1</td>\n",
       "      <td>12/7/2019</td>\n",
       "      <td>1:07:00 PM</td>\n",
       "      <td></td>\n",
       "      <td></td>\n",
       "      <td></td>\n",
       "      <td></td>\n",
       "      <td></td>\n",
       "    </tr>\n",
       "    <tr>\n",
       "      <th>4</th>\n",
       "      <td>2018861883</td>\n",
       "      <td>violation-of-restraining-order</td>\n",
       "      <td>all-other-crimes</td>\n",
       "      <td>12/22/2018 8:15:00 PM</td>\n",
       "      <td>montbello</td>\n",
       "      <td>1</td>\n",
       "      <td>12/22/2018</td>\n",
       "      <td>8:15:00 PM</td>\n",
       "      <td></td>\n",
       "      <td></td>\n",
       "      <td></td>\n",
       "      <td></td>\n",
       "      <td></td>\n",
       "    </tr>\n",
       "    <tr>\n",
       "      <th>5</th>\n",
       "      <td>2018264446</td>\n",
       "      <td>threats-to-injure</td>\n",
       "      <td>public-disorder</td>\n",
       "      <td>3/29/2018 10:00:00 AM</td>\n",
       "      <td>union-station</td>\n",
       "      <td>1</td>\n",
       "      <td>3/29/2018</td>\n",
       "      <td>10:00:00 AM</td>\n",
       "      <td></td>\n",
       "      <td></td>\n",
       "      <td></td>\n",
       "      <td></td>\n",
       "      <td></td>\n",
       "    </tr>\n",
       "  </tbody>\n",
       "</table>\n",
       "</div>"
      ],
      "text/plain": [
       "   INCIDENT_ID                 OFFENSE_TYPE_ID OFFENSE_CATEGORY_ID  \\\n",
       "0   2018869789                     theft-other             larceny   \n",
       "2  20176005213                   theft-bicycle             larceny   \n",
       "3  20196012240                 theft-from-bldg             larceny   \n",
       "4   2018861883  violation-of-restraining-order    all-other-crimes   \n",
       "5   2018264446               threats-to-injure     public-disorder   \n",
       "\n",
       "   FIRST_OCCURRENCE_DATE NEIGHBORHOOD_ID  IS_CRIME Occurrence_date  \\\n",
       "0  12/27/2018 3:58:00 PM       stapleton         1      12/27/2018   \n",
       "2    6/8/2017 1:15:00 PM   union-station         1        6/8/2017   \n",
       "3   12/7/2019 1:07:00 PM     west-colfax         1       12/7/2019   \n",
       "4  12/22/2018 8:15:00 PM       montbello         1      12/22/2018   \n",
       "5  3/29/2018 10:00:00 AM   union-station         1       3/29/2018   \n",
       "\n",
       "  Occurrence_time tempF cloudcover windspeedMiles precipInches weatherDesc  \n",
       "0      3:58:00 PM                                                           \n",
       "2      1:15:00 PM                                                           \n",
       "3      1:07:00 PM                                                           \n",
       "4      8:15:00 PM                                                           \n",
       "5     10:00:00 AM                                                           "
      ]
     },
     "execution_count": 15,
     "metadata": {},
     "output_type": "execute_result"
    }
   ],
   "source": [
    "#add new columns for weather data to be imported in\n",
    "is_crime_df['tempF'] = \"\"\n",
    "is_crime_df['cloudcover'] = \"\"\n",
    "is_crime_df['windspeedMiles'] = \"\"\n",
    "is_crime_df['precipInches'] = \"\"\n",
    "is_crime_df['weatherDesc'] = \"\"\n",
    "is_crime_df.head()"
   ]
  },
  {
   "cell_type": "code",
   "execution_count": 16,
   "metadata": {},
   "outputs": [
    {
     "name": "stdout",
     "output_type": "stream",
     "text": [
      "9/9/2020\n",
      "1/1/2016\n"
     ]
    }
   ],
   "source": [
    "print(is_crime_df['Occurrence_date'].max())\n",
    "print(is_crime_df['Occurrence_date'].min())"
   ]
  },
  {
   "cell_type": "code",
   "execution_count": 17,
   "metadata": {},
   "outputs": [
    {
     "data": {
      "text/plain": [
       "197"
      ]
     },
     "execution_count": 17,
     "metadata": {},
     "output_type": "execute_result"
    }
   ],
   "source": [
    "crime_by_offense_type = is_crime_df.groupby(['OFFENSE_TYPE_ID'])\n",
    "offense_type_count = crime_by_offense_type['OFFENSE_TYPE_ID'].count()\n",
    "len(offense_type_count)"
   ]
  },
  {
   "cell_type": "code",
   "execution_count": 18,
   "metadata": {},
   "outputs": [
    {
     "data": {
      "text/plain": [
       "14"
      ]
     },
     "execution_count": 18,
     "metadata": {},
     "output_type": "execute_result"
    }
   ],
   "source": [
    "crime_by_offense_category = is_crime_df.groupby(['OFFENSE_CATEGORY_ID'])\n",
    "offense_category_count = crime_by_offense_category['OFFENSE_CATEGORY_ID'].count()\n",
    "offense_category = crime_by_offense_category['OFFENSE_CATEGORY_ID']\n",
    "len(offense_category)"
   ]
  },
  {
   "cell_type": "code",
   "execution_count": 11,
   "metadata": {},
   "outputs": [
    {
     "data": {
      "image/png": "[encoded data removed]",
      "text/plain": [
       "<Figure size 432x288 with 1 Axes>"
      ]
     },
     "metadata": {
      "needs_background": "light"
     },
     "output_type": "display_data"
    }
   ],
   "source": [
    "crime_by_offense_category_df = is_crime_df.groupby('OFFENSE_CATEGORY_ID').count().reset_index()\n",
    "\n",
    "#crime_by_offense_category_df = crime_by_offense_category_df.rename(columns={'OFFENSE_CATEGORY_ID':'Count of Offenses'})\n",
    "crime_by_offense_category_df\n",
    "\n",
    "crime_by_offense_category_df.plot(kind='bar',x= 'OFFENSE_CATEGORY_ID',y= 'OFFENSE_TYPE_ID').legend(loc='upper right')\n",
    "plt.title(\"Total Number Offenses by Category\")\n",
    "plt.xlabel(\"Offense Category\")\n",
    "plt.ylabel('Count of Offenses')\n",
    "plt.tight_layout()"
   ]
  },
  {
   "cell_type": "code",
   "execution_count": null,
   "metadata": {},
   "outputs": [],
   "source": []
  }
 ],
 "metadata": {
  "kernelspec": {
   "display_name": "PythonEnv",
   "language": "python",
   "name": "pythonenv"
  },
  "language_info": {
   "codemirror_mode": {
    "name": "ipython",
    "version": 3
   },
   "file_extension": ".py",
   "mimetype": "text/x-python",
   "name": "python",
   "nbconvert_exporter": "python",
   "pygments_lexer": "ipython3",
   "version": "3.8.3"
  }
 },
 "nbformat": 4,
 "nbformat_minor": 4
}